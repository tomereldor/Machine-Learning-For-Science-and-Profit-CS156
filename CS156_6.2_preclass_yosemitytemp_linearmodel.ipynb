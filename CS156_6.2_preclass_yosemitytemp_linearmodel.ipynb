{
 "cells": [
  {
   "cell_type": "code",
   "execution_count": 9,
   "metadata": {
    "collapsed": false
   },
   "outputs": [],
   "source": [
    "import numpy as np\n",
    "import matplotlib.pyplot as plt\n",
    "from sklearn import linear_model\n",
    "\n",
    "years = range(2011, 2017)\n",
    "files = ['CRNS0101-05-%d-CA_Yosemite_Village_12_W.txt' % y for y in years]\n",
    "usecols = [1, 2, 8]\n",
    "\n",
    "data = [np.loadtxt(f, usecols=usecols) for f in files]\n",
    "data = np.vstack(data)\n",
    "\n",
    "data[:10]\n",
    "\n",
    "# Map from HHmm to an integer\n",
    "data[:, 1] = np.floor_divide(data[:, 1], 100) * 60 + np.mod(data[:, 1], 100)\n",
    "valid = data[:, 2] > -1000\n",
    "\n",
    "x_train = data[valid, 1].reshape(-1, 1)\n",
    "y_train = data[valid, 2]\n",
    "regr = linear_model.LinearRegression()\n",
    "regr.fit(x_train, y_train)\n",
    "\n",
    "x_predict = [[0], [1435]]\n",
    "y_predict = regr.predict(x_predict)\n"
   ]
  },
  {
   "cell_type": "code",
   "execution_count": null,
   "metadata": {
    "collapsed": true
   },
   "outputs": [],
   "source": [
    "#plot\n",
    "plt.scatter(data[valid, 1], data[valid, 2], label='Data', color='b')\n",
    "plt.plot(x_predict, y_predict, label='Linear prediction', color='r')\n",
    "plt.legend(loc='best')\n",
    "plt.show()"
   ]
  },
  {
   "cell_type": "code",
   "execution_count": 4,
   "metadata": {
    "collapsed": false
   },
   "outputs": [
    {
     "data": {
      "text/plain": [
       "array([[  2.01101010e+07,   5.00000000e+00,  -6.40000000e+00]])"
      ]
     },
     "execution_count": 4,
     "metadata": {},
     "output_type": "execute_result"
    }
   ],
   "source": [
    "data[:1]"
   ]
  },
  {
   "cell_type": "code",
   "execution_count": 6,
   "metadata": {
    "collapsed": false
   },
   "outputs": [
    {
     "data": {
      "text/plain": [
       "array([[ 5.]])"
      ]
     },
     "execution_count": 6,
     "metadata": {},
     "output_type": "execute_result"
    }
   ],
   "source": [
    "x_train[:1]"
   ]
  },
  {
   "cell_type": "code",
   "execution_count": 8,
   "metadata": {
    "collapsed": false
   },
   "outputs": [
    {
     "data": {
      "text/plain": [
       "array([-6.4])"
      ]
     },
     "execution_count": 8,
     "metadata": {},
     "output_type": "execute_result"
    }
   ],
   "source": [
    "y_train[:1]"
   ]
  },
  {
   "cell_type": "code",
   "execution_count": null,
   "metadata": {
    "collapsed": true
   },
   "outputs": [],
   "source": [
    "# FIT RBF LINEAR MODEL\n",
    "\n",
    "from sklearn.metrics.pairwise import rbf_kernel\n",
    "import numpy as np\n",
    "\n",
    "centers = np.asarray([1.0, 1.2, 1.4, 1.6, 1.8, 2.0])\n",
    "sigma = 1.0\n",
    "# New representation:\n",
    "x_rbfd = rbf_kernel(x_train, centers, gamma=1/sigma^2)\n",
    "\n",
    "# Now go and fit a linear model between x and height\n",
    "regr.fit(x_rbfd + x_rbfd**2 + x_rbfd**3, y_train)\n"
   ]
  }
 ],
 "metadata": {
  "anaconda-cloud": {},
  "kernelspec": {
   "display_name": "Python [Root]",
   "language": "python",
   "name": "Python [Root]"
  },
  "language_info": {
   "codemirror_mode": {
    "name": "ipython",
    "version": 2
   },
   "file_extension": ".py",
   "mimetype": "text/x-python",
   "name": "python",
   "nbconvert_exporter": "python",
   "pygments_lexer": "ipython2",
   "version": "2.7.12"
  }
 },
 "nbformat": 4,
 "nbformat_minor": 2
}
