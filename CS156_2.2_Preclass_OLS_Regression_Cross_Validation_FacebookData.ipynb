{
 "cells": [
  {
   "cell_type": "markdown",
   "metadata": {},
   "source": [
    "# Facebook Regression\n",
    "\n",
    "The input variables:\n",
    "\n",
    "* **total_followers**: The number of followers of the group.\n",
    "* **type**: Specifies whether it is of type \"**photo\", \"status\", or \"link\".**\n",
    "* **category**: There are** three distinct categories 1,2, and 3.**\n",
    "* **month**: The month that the post was created.\n",
    "* **weekday**: The day of the week that the post was created.\n",
    "* **paid**: A 0/1 flag indicating whether the post was a paid-for promotion.\n",
    "\n",
    "*The output variables:*\n",
    "\n",
    "* **comment**: The number of comments that the post generated.\n",
    "* **like**: The number of likes that the post generated.\n",
    "* **share**: The number of shares that the post generated.\n",
    "\n",
    "Now do the following:\n",
    "\n",
    "1. Build a regression model by minimizing the **mean squared error (MSE)** to predict any one of:\n",
    "    1. comments,\n",
    "    2. likes,\n",
    "    3. shares\n",
    "2. In building,  I want to:\n",
    "    1. visualize histograms or relationships between features and response using scatterplots\n",
    "    2. preprocess data:\n",
    "    3. standartize / normalize\n",
    "    4. add higher degrees and interactions into the model?\n",
    "    5. K-fold cross validation; is the group important and should be grouped CV?\n",
    "3. Using your model, quantify how much the different input variables predict the influence of a post. Is there any interesting or unexpected behavior that your model predicts?\n",
    "\n"
   ]
  },
  {
   "cell_type": "code",
   "execution_count": 26,
   "metadata": {
    "collapsed": false
   },
   "outputs": [
    {
     "data": {
      "text/html": [
       "<div>\n",
       "<table border=\"1\" class=\"dataframe\">\n",
       "  <thead>\n",
       "    <tr style=\"text-align: right;\">\n",
       "      <th></th>\n",
       "      <th>total_followers</th>\n",
       "      <th>type</th>\n",
       "      <th>category</th>\n",
       "      <th>month</th>\n",
       "      <th>weekday</th>\n",
       "      <th>hour</th>\n",
       "      <th>paid</th>\n",
       "      <th>comment</th>\n",
       "      <th>like</th>\n",
       "      <th>share</th>\n",
       "    </tr>\n",
       "  </thead>\n",
       "  <tbody>\n",
       "    <tr>\n",
       "      <th>0</th>\n",
       "      <td>124050</td>\n",
       "      <td>Photo</td>\n",
       "      <td>3</td>\n",
       "      <td>6</td>\n",
       "      <td>4</td>\n",
       "      <td>17</td>\n",
       "      <td>1</td>\n",
       "      <td>3</td>\n",
       "      <td>77</td>\n",
       "      <td>16</td>\n",
       "    </tr>\n",
       "    <tr>\n",
       "      <th>1</th>\n",
       "      <td>132556</td>\n",
       "      <td>Photo</td>\n",
       "      <td>2</td>\n",
       "      <td>8</td>\n",
       "      <td>3</td>\n",
       "      <td>24</td>\n",
       "      <td>0</td>\n",
       "      <td>11</td>\n",
       "      <td>313</td>\n",
       "      <td>50</td>\n",
       "    </tr>\n",
       "    <tr>\n",
       "      <th>2</th>\n",
       "      <td>92786</td>\n",
       "      <td>Photo</td>\n",
       "      <td>2</td>\n",
       "      <td>2</td>\n",
       "      <td>6</td>\n",
       "      <td>17</td>\n",
       "      <td>1</td>\n",
       "      <td>2</td>\n",
       "      <td>145</td>\n",
       "      <td>39</td>\n",
       "    </tr>\n",
       "    <tr>\n",
       "      <th>3</th>\n",
       "      <td>135632</td>\n",
       "      <td>Photo</td>\n",
       "      <td>1</td>\n",
       "      <td>9</td>\n",
       "      <td>2</td>\n",
       "      <td>1</td>\n",
       "      <td>0</td>\n",
       "      <td>2</td>\n",
       "      <td>299</td>\n",
       "      <td>49</td>\n",
       "    </tr>\n",
       "    <tr>\n",
       "      <th>4</th>\n",
       "      <td>139540</td>\n",
       "      <td>Link</td>\n",
       "      <td>1</td>\n",
       "      <td>12</td>\n",
       "      <td>3</td>\n",
       "      <td>17</td>\n",
       "      <td>1</td>\n",
       "      <td>7</td>\n",
       "      <td>229</td>\n",
       "      <td>21</td>\n",
       "    </tr>\n",
       "  </tbody>\n",
       "</table>\n",
       "</div>"
      ],
      "text/plain": [
       "   total_followers   type  category  month  weekday  hour  paid  comment  \\\n",
       "0           124050  Photo         3      6        4    17     1        3   \n",
       "1           132556  Photo         2      8        3    24     0       11   \n",
       "2            92786  Photo         2      2        6    17     1        2   \n",
       "3           135632  Photo         1      9        2     1     0        2   \n",
       "4           139540   Link         1     12        3    17     1        7   \n",
       "\n",
       "   like  share  \n",
       "0    77     16  \n",
       "1   313     50  \n",
       "2   145     39  \n",
       "3   299     49  \n",
       "4   229     21  "
      ]
     },
     "execution_count": 26,
     "metadata": {},
     "output_type": "execute_result"
    }
   ],
   "source": [
    "## SETTING UP\n",
    "# imports\n",
    "import pandas as pd\n",
    "import seaborn as sns\n",
    "import statsmodels.formula.api as smf\n",
    "from sklearn.linear_model import LinearRegression\n",
    "from sklearn.cross_validation import KFold\n",
    "import pylab as pl\n",
    "from sklearn import metrics\n",
    "from sklearn.cross_validation import train_test_split\n",
    "import numpy as np\n",
    "\n",
    "# allow plots to appear directly in the notebook\n",
    "%matplotlib inline\n",
    "\n",
    "#import data\n",
    "data =  pd.read_csv(\"/Users/tomereldor/PycharmProjects/CS156ML/facebook_train.csv\")\n",
    "data.head()"
   ]
  },
  {
   "cell_type": "markdown",
   "metadata": {},
   "source": [
    "## DATA PREPROCESSING\n",
    "* Converting stinrgs to dummy variables\n",
    "* Adding 1s\n",
    "* Rescaling to standartize / normalize\n",
    "* Prepare 2nd degree polynomial and interaction columns for regression"
   ]
  },
  {
   "cell_type": "code",
   "execution_count": 28,
   "metadata": {
    "collapsed": false,
    "scrolled": true
   },
   "outputs": [
    {
     "data": {
      "text/html": [
       "<div>\n",
       "<table border=\"1\" class=\"dataframe\">\n",
       "  <thead>\n",
       "    <tr style=\"text-align: right;\">\n",
       "      <th></th>\n",
       "      <th>total_followers</th>\n",
       "      <th>type_post</th>\n",
       "      <th>type*cat</th>\n",
       "      <th>category</th>\n",
       "      <th>paid</th>\n",
       "      <th>month</th>\n",
       "      <th>weekday</th>\n",
       "      <th>hour</th>\n",
       "      <th>weekend</th>\n",
       "      <th>hour^2</th>\n",
       "      <th>month^2</th>\n",
       "      <th>weekday^2</th>\n",
       "      <th>comment</th>\n",
       "      <th>like</th>\n",
       "      <th>share</th>\n",
       "    </tr>\n",
       "  </thead>\n",
       "  <tbody>\n",
       "    <tr>\n",
       "      <th>0</th>\n",
       "      <td>124050</td>\n",
       "      <td>1</td>\n",
       "      <td>3</td>\n",
       "      <td>3</td>\n",
       "      <td>1</td>\n",
       "      <td>6</td>\n",
       "      <td>4</td>\n",
       "      <td>17</td>\n",
       "      <td>False</td>\n",
       "      <td>289</td>\n",
       "      <td>36</td>\n",
       "      <td>16</td>\n",
       "      <td>3</td>\n",
       "      <td>77</td>\n",
       "      <td>16</td>\n",
       "    </tr>\n",
       "    <tr>\n",
       "      <th>1</th>\n",
       "      <td>132556</td>\n",
       "      <td>1</td>\n",
       "      <td>2</td>\n",
       "      <td>2</td>\n",
       "      <td>0</td>\n",
       "      <td>8</td>\n",
       "      <td>3</td>\n",
       "      <td>24</td>\n",
       "      <td>False</td>\n",
       "      <td>576</td>\n",
       "      <td>64</td>\n",
       "      <td>9</td>\n",
       "      <td>11</td>\n",
       "      <td>313</td>\n",
       "      <td>50</td>\n",
       "    </tr>\n",
       "    <tr>\n",
       "      <th>2</th>\n",
       "      <td>92786</td>\n",
       "      <td>1</td>\n",
       "      <td>2</td>\n",
       "      <td>2</td>\n",
       "      <td>1</td>\n",
       "      <td>2</td>\n",
       "      <td>6</td>\n",
       "      <td>17</td>\n",
       "      <td>True</td>\n",
       "      <td>289</td>\n",
       "      <td>4</td>\n",
       "      <td>36</td>\n",
       "      <td>2</td>\n",
       "      <td>145</td>\n",
       "      <td>39</td>\n",
       "    </tr>\n",
       "    <tr>\n",
       "      <th>3</th>\n",
       "      <td>135632</td>\n",
       "      <td>1</td>\n",
       "      <td>1</td>\n",
       "      <td>1</td>\n",
       "      <td>0</td>\n",
       "      <td>9</td>\n",
       "      <td>2</td>\n",
       "      <td>1</td>\n",
       "      <td>False</td>\n",
       "      <td>1</td>\n",
       "      <td>81</td>\n",
       "      <td>4</td>\n",
       "      <td>2</td>\n",
       "      <td>299</td>\n",
       "      <td>49</td>\n",
       "    </tr>\n",
       "    <tr>\n",
       "      <th>4</th>\n",
       "      <td>139540</td>\n",
       "      <td>0</td>\n",
       "      <td>0</td>\n",
       "      <td>1</td>\n",
       "      <td>1</td>\n",
       "      <td>12</td>\n",
       "      <td>3</td>\n",
       "      <td>17</td>\n",
       "      <td>False</td>\n",
       "      <td>289</td>\n",
       "      <td>144</td>\n",
       "      <td>9</td>\n",
       "      <td>7</td>\n",
       "      <td>229</td>\n",
       "      <td>21</td>\n",
       "    </tr>\n",
       "    <tr>\n",
       "      <th>5</th>\n",
       "      <td>138969</td>\n",
       "      <td>1</td>\n",
       "      <td>3</td>\n",
       "      <td>3</td>\n",
       "      <td>1</td>\n",
       "      <td>12</td>\n",
       "      <td>5</td>\n",
       "      <td>17</td>\n",
       "      <td>False</td>\n",
       "      <td>289</td>\n",
       "      <td>144</td>\n",
       "      <td>25</td>\n",
       "      <td>3</td>\n",
       "      <td>284</td>\n",
       "      <td>31</td>\n",
       "    </tr>\n",
       "    <tr>\n",
       "      <th>6</th>\n",
       "      <td>124025</td>\n",
       "      <td>1</td>\n",
       "      <td>3</td>\n",
       "      <td>3</td>\n",
       "      <td>0</td>\n",
       "      <td>6</td>\n",
       "      <td>3</td>\n",
       "      <td>18</td>\n",
       "      <td>False</td>\n",
       "      <td>324</td>\n",
       "      <td>36</td>\n",
       "      <td>9</td>\n",
       "      <td>10</td>\n",
       "      <td>240</td>\n",
       "      <td>28</td>\n",
       "    </tr>\n",
       "    <tr>\n",
       "      <th>7</th>\n",
       "      <td>131431</td>\n",
       "      <td>2</td>\n",
       "      <td>4</td>\n",
       "      <td>2</td>\n",
       "      <td>1</td>\n",
       "      <td>7</td>\n",
       "      <td>6</td>\n",
       "      <td>20</td>\n",
       "      <td>True</td>\n",
       "      <td>400</td>\n",
       "      <td>49</td>\n",
       "      <td>36</td>\n",
       "      <td>7</td>\n",
       "      <td>16</td>\n",
       "      <td>1</td>\n",
       "    </tr>\n",
       "    <tr>\n",
       "      <th>8</th>\n",
       "      <td>137820</td>\n",
       "      <td>1</td>\n",
       "      <td>1</td>\n",
       "      <td>1</td>\n",
       "      <td>1</td>\n",
       "      <td>11</td>\n",
       "      <td>7</td>\n",
       "      <td>16</td>\n",
       "      <td>True</td>\n",
       "      <td>256</td>\n",
       "      <td>121</td>\n",
       "      <td>49</td>\n",
       "      <td>21</td>\n",
       "      <td>490</td>\n",
       "      <td>90</td>\n",
       "    </tr>\n",
       "    <tr>\n",
       "      <th>9</th>\n",
       "      <td>137553</td>\n",
       "      <td>2</td>\n",
       "      <td>4</td>\n",
       "      <td>2</td>\n",
       "      <td>0</td>\n",
       "      <td>11</td>\n",
       "      <td>4</td>\n",
       "      <td>17</td>\n",
       "      <td>False</td>\n",
       "      <td>289</td>\n",
       "      <td>121</td>\n",
       "      <td>16</td>\n",
       "      <td>2</td>\n",
       "      <td>96</td>\n",
       "      <td>15</td>\n",
       "    </tr>\n",
       "    <tr>\n",
       "      <th>10</th>\n",
       "      <td>136532</td>\n",
       "      <td>1</td>\n",
       "      <td>1</td>\n",
       "      <td>1</td>\n",
       "      <td>0</td>\n",
       "      <td>11</td>\n",
       "      <td>4</td>\n",
       "      <td>2</td>\n",
       "      <td>False</td>\n",
       "      <td>4</td>\n",
       "      <td>121</td>\n",
       "      <td>16</td>\n",
       "      <td>2</td>\n",
       "      <td>36</td>\n",
       "      <td>8</td>\n",
       "    </tr>\n",
       "    <tr>\n",
       "      <th>11</th>\n",
       "      <td>115484</td>\n",
       "      <td>1</td>\n",
       "      <td>1</td>\n",
       "      <td>1</td>\n",
       "      <td>0</td>\n",
       "      <td>4</td>\n",
       "      <td>5</td>\n",
       "      <td>16</td>\n",
       "      <td>False</td>\n",
       "      <td>256</td>\n",
       "      <td>16</td>\n",
       "      <td>25</td>\n",
       "      <td>5</td>\n",
       "      <td>48</td>\n",
       "      <td>10</td>\n",
       "    </tr>\n",
       "    <tr>\n",
       "      <th>12</th>\n",
       "      <td>138660</td>\n",
       "      <td>1</td>\n",
       "      <td>2</td>\n",
       "      <td>2</td>\n",
       "      <td>0</td>\n",
       "      <td>12</td>\n",
       "      <td>6</td>\n",
       "      <td>17</td>\n",
       "      <td>True</td>\n",
       "      <td>289</td>\n",
       "      <td>144</td>\n",
       "      <td>36</td>\n",
       "      <td>22</td>\n",
       "      <td>399</td>\n",
       "      <td>58</td>\n",
       "    </tr>\n",
       "    <tr>\n",
       "      <th>13</th>\n",
       "      <td>117962</td>\n",
       "      <td>1</td>\n",
       "      <td>3</td>\n",
       "      <td>3</td>\n",
       "      <td>1</td>\n",
       "      <td>5</td>\n",
       "      <td>4</td>\n",
       "      <td>3</td>\n",
       "      <td>False</td>\n",
       "      <td>9</td>\n",
       "      <td>25</td>\n",
       "      <td>16</td>\n",
       "      <td>3</td>\n",
       "      <td>189</td>\n",
       "      <td>23</td>\n",
       "    </tr>\n",
       "    <tr>\n",
       "      <th>14</th>\n",
       "      <td>124912</td>\n",
       "      <td>1</td>\n",
       "      <td>1</td>\n",
       "      <td>1</td>\n",
       "      <td>1</td>\n",
       "      <td>6</td>\n",
       "      <td>2</td>\n",
       "      <td>3</td>\n",
       "      <td>False</td>\n",
       "      <td>9</td>\n",
       "      <td>36</td>\n",
       "      <td>4</td>\n",
       "      <td>10</td>\n",
       "      <td>243</td>\n",
       "      <td>32</td>\n",
       "    </tr>\n",
       "    <tr>\n",
       "      <th>15</th>\n",
       "      <td>93892</td>\n",
       "      <td>1</td>\n",
       "      <td>3</td>\n",
       "      <td>3</td>\n",
       "      <td>0</td>\n",
       "      <td>2</td>\n",
       "      <td>5</td>\n",
       "      <td>3</td>\n",
       "      <td>False</td>\n",
       "      <td>9</td>\n",
       "      <td>4</td>\n",
       "      <td>25</td>\n",
       "      <td>180</td>\n",
       "      <td>1826</td>\n",
       "      <td>208</td>\n",
       "    </tr>\n",
       "    <tr>\n",
       "      <th>16</th>\n",
       "      <td>106259</td>\n",
       "      <td>1</td>\n",
       "      <td>1</td>\n",
       "      <td>1</td>\n",
       "      <td>1</td>\n",
       "      <td>4</td>\n",
       "      <td>7</td>\n",
       "      <td>18</td>\n",
       "      <td>True</td>\n",
       "      <td>324</td>\n",
       "      <td>16</td>\n",
       "      <td>49</td>\n",
       "      <td>4</td>\n",
       "      <td>153</td>\n",
       "      <td>19</td>\n",
       "    </tr>\n",
       "    <tr>\n",
       "      <th>17</th>\n",
       "      <td>119910</td>\n",
       "      <td>1</td>\n",
       "      <td>3</td>\n",
       "      <td>3</td>\n",
       "      <td>0</td>\n",
       "      <td>5</td>\n",
       "      <td>7</td>\n",
       "      <td>19</td>\n",
       "      <td>True</td>\n",
       "      <td>361</td>\n",
       "      <td>25</td>\n",
       "      <td>49</td>\n",
       "      <td>1</td>\n",
       "      <td>131</td>\n",
       "      <td>31</td>\n",
       "    </tr>\n",
       "    <tr>\n",
       "      <th>18</th>\n",
       "      <td>131498</td>\n",
       "      <td>3</td>\n",
       "      <td>3</td>\n",
       "      <td>1</td>\n",
       "      <td>1</td>\n",
       "      <td>7</td>\n",
       "      <td>7</td>\n",
       "      <td>1</td>\n",
       "      <td>True</td>\n",
       "      <td>1</td>\n",
       "      <td>49</td>\n",
       "      <td>49</td>\n",
       "      <td>21</td>\n",
       "      <td>372</td>\n",
       "      <td>91</td>\n",
       "    </tr>\n",
       "    <tr>\n",
       "      <th>19</th>\n",
       "      <td>106413</td>\n",
       "      <td>1</td>\n",
       "      <td>3</td>\n",
       "      <td>3</td>\n",
       "      <td>0</td>\n",
       "      <td>4</td>\n",
       "      <td>5</td>\n",
       "      <td>17</td>\n",
       "      <td>False</td>\n",
       "      <td>289</td>\n",
       "      <td>16</td>\n",
       "      <td>25</td>\n",
       "      <td>1</td>\n",
       "      <td>63</td>\n",
       "      <td>30</td>\n",
       "    </tr>\n",
       "  </tbody>\n",
       "</table>\n",
       "</div>"
      ],
      "text/plain": [
       "    total_followers  type_post  type*cat  category  paid  month  weekday  \\\n",
       "0            124050          1         3         3     1      6        4   \n",
       "1            132556          1         2         2     0      8        3   \n",
       "2             92786          1         2         2     1      2        6   \n",
       "3            135632          1         1         1     0      9        2   \n",
       "4            139540          0         0         1     1     12        3   \n",
       "5            138969          1         3         3     1     12        5   \n",
       "6            124025          1         3         3     0      6        3   \n",
       "7            131431          2         4         2     1      7        6   \n",
       "8            137820          1         1         1     1     11        7   \n",
       "9            137553          2         4         2     0     11        4   \n",
       "10           136532          1         1         1     0     11        4   \n",
       "11           115484          1         1         1     0      4        5   \n",
       "12           138660          1         2         2     0     12        6   \n",
       "13           117962          1         3         3     1      5        4   \n",
       "14           124912          1         1         1     1      6        2   \n",
       "15            93892          1         3         3     0      2        5   \n",
       "16           106259          1         1         1     1      4        7   \n",
       "17           119910          1         3         3     0      5        7   \n",
       "18           131498          3         3         1     1      7        7   \n",
       "19           106413          1         3         3     0      4        5   \n",
       "\n",
       "    hour weekend  hour^2  month^2  weekday^2  comment  like  share  \n",
       "0     17   False     289       36         16        3    77     16  \n",
       "1     24   False     576       64          9       11   313     50  \n",
       "2     17    True     289        4         36        2   145     39  \n",
       "3      1   False       1       81          4        2   299     49  \n",
       "4     17   False     289      144          9        7   229     21  \n",
       "5     17   False     289      144         25        3   284     31  \n",
       "6     18   False     324       36          9       10   240     28  \n",
       "7     20    True     400       49         36        7    16      1  \n",
       "8     16    True     256      121         49       21   490     90  \n",
       "9     17   False     289      121         16        2    96     15  \n",
       "10     2   False       4      121         16        2    36      8  \n",
       "11    16   False     256       16         25        5    48     10  \n",
       "12    17    True     289      144         36       22   399     58  \n",
       "13     3   False       9       25         16        3   189     23  \n",
       "14     3   False       9       36          4       10   243     32  \n",
       "15     3   False       9        4         25      180  1826    208  \n",
       "16    18    True     324       16         49        4   153     19  \n",
       "17    19    True     361       25         49        1   131     31  \n",
       "18     1    True       1       49         49       21   372     91  \n",
       "19    17   False     289       16         25        1    63     30  "
      ]
     },
     "execution_count": 28,
     "metadata": {},
     "output_type": "execute_result"
    }
   ],
   "source": [
    "## DATA PREPROCESSING\n",
    "\n",
    "data['1s'] = 1 # we would need a column of ones for linear regression\n",
    "data['weekend'] = (data['weekday'] > 5)\n",
    "\n",
    "\n",
    "# converting categorical into dummies:\n",
    "data['type_post'] = data['type'].astype('category').cat.codes\n",
    "data['type*cat'] = (data['type_post']) * (data['category'])\n",
    "\n",
    "\n",
    "\n",
    "\n",
    "## adding higher degrees (for fitting on nonlinear lines) and interactions\n",
    "for col in ['hour','month','weekday']:\n",
    "    for order in [2]:\n",
    "        colname = str(col) + \"^\" + str(order)\n",
    "        #print colname\n",
    "        data[colname] = data[col]**order\n",
    "#data.head()\n",
    "\n",
    "#cols = list(data)\n",
    "cols =  ['total_followers','type_post', 'type*cat', 'category', 'paid', 'month', 'weekday', 'hour','weekend', 'hour^2', 'month^2', 'weekday^2', 'comment', 'like', 'share']\n",
    "\n",
    "#reorder columns\n",
    "#cols.insert(2, cols.pop(cols.index('type_post')))\n",
    "#cols.insert(4, cols.pop(cols.index('type*cat')))\n",
    "#cols.insert(-3, cols.pop(cols.index('1s')))\n",
    "data = data.ix[:, cols]\n",
    "data.head(20)"
   ]
  },
  {
   "cell_type": "code",
   "execution_count": 31,
   "metadata": {
    "collapsed": false
   },
   "outputs": [
    {
     "data": {
      "text/html": [
       "<div>\n",
       "<table border=\"1\" class=\"dataframe\">\n",
       "  <thead>\n",
       "    <tr style=\"text-align: right;\">\n",
       "      <th></th>\n",
       "      <th>total_followers</th>\n",
       "      <th>type_post</th>\n",
       "      <th>type*cat</th>\n",
       "      <th>category</th>\n",
       "      <th>paid</th>\n",
       "      <th>month</th>\n",
       "      <th>weekday</th>\n",
       "      <th>hour</th>\n",
       "      <th>weekend</th>\n",
       "      <th>hour^2</th>\n",
       "      <th>month^2</th>\n",
       "      <th>weekday^2</th>\n",
       "    </tr>\n",
       "  </thead>\n",
       "  <tbody>\n",
       "    <tr>\n",
       "      <th>0</th>\n",
       "      <td>124050</td>\n",
       "      <td>1</td>\n",
       "      <td>3</td>\n",
       "      <td>3</td>\n",
       "      <td>1</td>\n",
       "      <td>6</td>\n",
       "      <td>4</td>\n",
       "      <td>17</td>\n",
       "      <td>False</td>\n",
       "      <td>289</td>\n",
       "      <td>36</td>\n",
       "      <td>16</td>\n",
       "    </tr>\n",
       "    <tr>\n",
       "      <th>1</th>\n",
       "      <td>132556</td>\n",
       "      <td>1</td>\n",
       "      <td>2</td>\n",
       "      <td>2</td>\n",
       "      <td>0</td>\n",
       "      <td>8</td>\n",
       "      <td>3</td>\n",
       "      <td>24</td>\n",
       "      <td>False</td>\n",
       "      <td>576</td>\n",
       "      <td>64</td>\n",
       "      <td>9</td>\n",
       "    </tr>\n",
       "    <tr>\n",
       "      <th>2</th>\n",
       "      <td>92786</td>\n",
       "      <td>1</td>\n",
       "      <td>2</td>\n",
       "      <td>2</td>\n",
       "      <td>1</td>\n",
       "      <td>2</td>\n",
       "      <td>6</td>\n",
       "      <td>17</td>\n",
       "      <td>True</td>\n",
       "      <td>289</td>\n",
       "      <td>4</td>\n",
       "      <td>36</td>\n",
       "    </tr>\n",
       "    <tr>\n",
       "      <th>3</th>\n",
       "      <td>135632</td>\n",
       "      <td>1</td>\n",
       "      <td>1</td>\n",
       "      <td>1</td>\n",
       "      <td>0</td>\n",
       "      <td>9</td>\n",
       "      <td>2</td>\n",
       "      <td>1</td>\n",
       "      <td>False</td>\n",
       "      <td>1</td>\n",
       "      <td>81</td>\n",
       "      <td>4</td>\n",
       "    </tr>\n",
       "    <tr>\n",
       "      <th>4</th>\n",
       "      <td>139540</td>\n",
       "      <td>0</td>\n",
       "      <td>0</td>\n",
       "      <td>1</td>\n",
       "      <td>1</td>\n",
       "      <td>12</td>\n",
       "      <td>3</td>\n",
       "      <td>17</td>\n",
       "      <td>False</td>\n",
       "      <td>289</td>\n",
       "      <td>144</td>\n",
       "      <td>9</td>\n",
       "    </tr>\n",
       "  </tbody>\n",
       "</table>\n",
       "</div>"
      ],
      "text/plain": [
       "   total_followers  type_post  type*cat  category  paid  month  weekday  hour  \\\n",
       "0           124050          1         3         3     1      6        4    17   \n",
       "1           132556          1         2         2     0      8        3    24   \n",
       "2            92786          1         2         2     1      2        6    17   \n",
       "3           135632          1         1         1     0      9        2     1   \n",
       "4           139540          0         0         1     1     12        3    17   \n",
       "\n",
       "  weekend  hour^2  month^2  weekday^2  \n",
       "0   False     289       36         16  \n",
       "1   False     576       64          9  \n",
       "2    True     289        4         36  \n",
       "3   False       1       81          4  \n",
       "4   False     289      144          9  "
      ]
     },
     "execution_count": 31,
     "metadata": {},
     "output_type": "execute_result"
    }
   ],
   "source": [
    "input_vars =  ['total_followers','type_post', 'type*cat', 'category', 'paid', 'month', 'weekday', 'hour','weekend', 'hour^2', 'month^2', 'weekday^2'] #'month^3'...\n",
    "output_vars = ['comment','like','share']\n",
    "\n",
    "x = np.array(data[input_vars])\n",
    "y = data['like']\n",
    "\n",
    "#print, for verification\n",
    "data[input_vars].head()\n",
    "\n",
    "## print, to verify\n",
    "#x[:10]\n",
    "#y[:10]"
   ]
  },
  {
   "cell_type": "code",
   "execution_count": 86,
   "metadata": {
    "collapsed": false
   },
   "outputs": [
    {
     "ename": "TypeError",
     "evalue": "get_dummies() takes at least 1 argument (1 given)",
     "output_type": "error",
     "traceback": [
      "\u001b[0;31m---------------------------------------------------------------------------\u001b[0m",
      "\u001b[0;31mTypeError\u001b[0m                                 Traceback (most recent call last)",
      "\u001b[0;32m<ipython-input-86-aea35319c34e>\u001b[0m in \u001b[0;36m<module>\u001b[0;34m()\u001b[0m\n\u001b[1;32m      1\u001b[0m \u001b[0mcols_to_transform\u001b[0m \u001b[0;34m=\u001b[0m \u001b[0;34m[\u001b[0m\u001b[0;34m'total_followers'\u001b[0m\u001b[0;34m,\u001b[0m\u001b[0;34m'type_post'\u001b[0m\u001b[0;34m,\u001b[0m \u001b[0;34m'type*cat'\u001b[0m\u001b[0;34m,\u001b[0m \u001b[0;34m'category'\u001b[0m\u001b[0;34m]\u001b[0m\u001b[0;34m\u001b[0m\u001b[0m\n\u001b[0;32m----> 2\u001b[0;31m \u001b[0mdf_with_dummies\u001b[0m \u001b[0;34m=\u001b[0m \u001b[0mpd\u001b[0m\u001b[0;34m.\u001b[0m\u001b[0mget_dummies\u001b[0m\u001b[0;34m(\u001b[0m \u001b[0mcolumns\u001b[0m \u001b[0;34m=\u001b[0m \u001b[0mcols_to_transform\u001b[0m \u001b[0;34m)\u001b[0m\u001b[0;34m\u001b[0m\u001b[0m\n\u001b[0m",
      "\u001b[0;31mTypeError\u001b[0m: get_dummies() takes at least 1 argument (1 given)"
     ]
    }
   ],
   "source": [
    "cols_to_transform = ['total_followers','type_post', 'type*cat', 'category']\n",
    "df_with_dummies = pd.get_dummies( columns = cols_to_transform )"
   ]
  },
  {
   "cell_type": "code",
   "execution_count": null,
   "metadata": {
    "collapsed": true
   },
   "outputs": [],
   "source": [
    "#[ur dataframe].iloc(row index, col index)\n",
    "#Ex: df.iloc(:, 1:9)\n",
    "#Ex2: df.iloc(:, [‘type’])"
   ]
  },
  {
   "cell_type": "code",
   "execution_count": 32,
   "metadata": {
    "collapsed": false,
    "scrolled": false
   },
   "outputs": [
    {
     "data": {
      "text/plain": [
       "<seaborn.axisgrid.PairGrid at 0x118728b50>"
      ]
     },
     "execution_count": 32,
     "metadata": {},
     "output_type": "execute_result"
    },
    {
     "data": {
      "image/png": "[encoded data removed]",
      "text/plain": [
       "<matplotlib.figure.Figure at 0x118728e50>"
      ]
     },
     "metadata": {},
     "output_type": "display_data"
    }
   ],
   "source": [
    "# Data Exploring\n",
    "#visualize histograms or relationships between features and response using scatterplots\n",
    "sns.pairplot(data, x_vars=input_vars, y_vars=output_vars)#, size=7, aspect=0.7)"
   ]
  },
  {
   "cell_type": "code",
   "execution_count": 37,
   "metadata": {
    "collapsed": false
   },
   "outputs": [
    {
     "data": {
      "text/plain": [
       "array([[ 0.03627935, -0.18021378,  0.84145804,  1.33483787,  1.57558121,\n",
       "        -0.33074599,  0.03597344,  0.34818248, -0.59965744,  0.10553418,\n",
       "        -0.54582578, -0.20363651],\n",
       "       [ 0.55552614, -0.18021378, -0.02848686,  0.16501307, -0.63468642,\n",
       "         0.27157584, -0.4740785 ,  1.19844531, -0.59965744,  1.51652448,\n",
       "         0.05562142, -0.6376134 ],\n",
       "       [-1.87222425, -0.18021378, -0.02848686,  0.16501307,  1.57558121,\n",
       "        -1.53538965,  1.05607731,  0.34818248,  1.66761878,  0.10553418,\n",
       "        -1.23319402,  1.03629746],\n",
       "       [ 0.74329985, -0.18021378, -0.89843176, -1.00481173, -0.63468642,\n",
       "         0.57273675, -0.98413044, -1.59527542, -0.59965744, -1.31037246,\n",
       "         0.4207858 , -0.94759689],\n",
       "       [ 0.9818628 , -2.41599097, -1.76837666, -1.00481173,  1.57558121,\n",
       "         1.4762195 , -0.4740785 ,  0.34818248, -0.59965744,  0.10553418,\n",
       "         1.77404201, -0.6376134 ],\n",
       "       [ 0.94700623, -0.18021378,  0.84145804,  1.33483787,  1.57558121,\n",
       "         1.4762195 ,  0.54602537,  0.34818248, -0.59965744,  0.10553418,\n",
       "         1.77404201,  0.35433377],\n",
       "       [ 0.03475323, -0.18021378,  0.84145804,  1.33483787, -0.63468642,\n",
       "        -0.33074599, -0.4740785 ,  0.46964859, -0.59965744,  0.27760617,\n",
       "        -0.54582578, -0.6376134 ],\n",
       "       [ 0.48685078,  2.05556341,  1.71140294,  0.16501307,  1.57558121,\n",
       "        -0.02958508,  1.05607731,  0.71258083,  1.66761878,  0.6512482 ,\n",
       "        -0.26658244,  1.03629746],\n",
       "       [ 0.8768658 , -0.18021378, -0.89843176, -1.00481173,  1.57558121,\n",
       "         1.17505858,  1.56612925,  0.22671636,  1.66761878, -0.05670512,\n",
       "         1.27999609,  1.84225453],\n",
       "       [ 0.86056684,  2.05556341,  1.71140294,  0.16501307, -0.63468642,\n",
       "         1.17505858,  0.03597344,  0.34818248, -0.59965744,  0.10553418,\n",
       "         1.27999609, -0.20363651],\n",
       "       [ 0.79824014, -0.18021378, -0.89843176, -1.00481173, -0.63468642,\n",
       "         1.17505858,  0.03597344, -1.4738093 , -0.59965744, -1.29562343,\n",
       "         1.27999609, -0.20363651],\n",
       "       [-0.48663012, -0.18021378, -0.89843176, -1.00481173, -0.63468642,\n",
       "        -0.93306782,  0.54602537,  0.22671636, -0.59965744, -0.05670512,\n",
       "        -0.97543093,  0.35433377],\n",
       "       [ 0.9281434 , -0.18021378, -0.02848686,  0.16501307, -0.63468642,\n",
       "         1.4762195 ,  1.05607731,  0.34818248,  1.66761878,  0.10553418,\n",
       "         1.77404201,  1.03629746],\n",
       "       [-0.33536119, -0.18021378,  0.84145804,  1.33483787,  1.57558121,\n",
       "        -0.63190691,  0.03597344, -1.35234318, -0.59965744, -1.27104172,\n",
       "        -0.78210862, -0.20363651],\n",
       "       [ 0.08889994, -0.18021378, -0.89843176, -1.00481173,  1.57558121,\n",
       "        -0.33074599, -0.98413044, -1.35234318, -0.59965744, -1.27104172,\n",
       "        -0.54582578, -0.94759689],\n",
       "       [-1.80470874, -0.18021378,  0.84145804,  1.33483787, -0.63468642,\n",
       "        -1.53538965,  0.54602537, -1.35234318, -0.59965744, -1.27104172,\n",
       "        -1.23319402,  0.35433377],\n",
       "       [-1.0497681 , -0.18021378, -0.89843176, -1.00481173,  1.57558121,\n",
       "        -0.93306782,  1.56612925,  0.46964859,  1.66761878,  0.27760617,\n",
       "        -0.97543093,  1.84225453],\n",
       "       [-0.21644599, -0.18021378,  0.84145804,  1.33483787, -0.63468642,\n",
       "        -0.63190691,  1.56612925,  0.59111471,  1.66761878,  0.45951084,\n",
       "        -0.78210862,  1.84225453],\n",
       "       [ 0.49094078,  4.2913406 ,  0.84145804, -1.00481173,  1.57558121,\n",
       "        -0.02958508,  1.56612925, -1.59527542,  1.66761878, -1.31037246,\n",
       "        -0.26658244,  1.84225453],\n",
       "       [-1.04036721, -0.18021378,  0.84145804,  1.33483787, -0.63468642,\n",
       "        -0.93306782,  0.54602537,  0.34818248, -0.59965744,  0.10553418,\n",
       "        -0.97543093,  0.35433377]])"
      ]
     },
     "execution_count": 37,
     "metadata": {},
     "output_type": "execute_result"
    }
   ],
   "source": [
    "## STANDARTIZE DATA \n",
    "from sklearn.preprocessing import StandardScaler\n",
    "scaler = StandardScaler()\n",
    "scaler.fit(x)\n",
    "x_s = scaler.transform(x)\n",
    "x_s[:20]"
   ]
  },
  {
   "cell_type": "code",
   "execution_count": 38,
   "metadata": {
    "collapsed": false
   },
   "outputs": [],
   "source": [
    "## ADD INTERACTION & 2nd Degree Columns\n",
    "#from sklearn.preprocessing import PolynomialFeatures\n",
    "# PolynomialFeatures (prepreprocessing)\n",
    "#poly = PolynomialFeatures(degree=2)\n",
    "#X_poly = poly.fit_transform(x)\n",
    "#\n",
    "#target_feature_names = ['x'.join(['{}^{}'.format(pair[0],pair[1]) for pair in tuple if pair[1]!=0]) for tuple in [zip(data.columns,p) for p in poly.powers_]]\n",
    "#output_df = pd.DataFrame(X_spoly, columns = target_feature_names)\n",
    "#output_df.head()"
   ]
  },
  {
   "cell_type": "markdown",
   "metadata": {},
   "source": [
    "### After Data Prep: Seperate a test set"
   ]
  },
  {
   "cell_type": "code",
   "execution_count": 49,
   "metadata": {
    "collapsed": false
   },
   "outputs": [
    {
     "name": "stdout",
     "output_type": "stream",
     "text": [
      "(397, 338, 59)\n"
     ]
    }
   ],
   "source": [
    "testset_portion = 0.15\n",
    "\n",
    "data_train = data[int(testset_portion*len(data)):]\n",
    "data_test = data[:int(testset_portion*len(data))]\n",
    "\n",
    "print(len(data),len(data_train), len(data_test))\n",
    "\n",
    "x_train = x[:int(testset_portion*len(x))]\n",
    "x_test = x[int(testset_portion*len(x)):]\n",
    "y_train = y[:int(testset_portion*len(y))]\n",
    "y_test = y[int(testset_portion*len(y)):]\n",
    "\n",
    "x_s_train = x_s[:int(testset_portion*len(x))]\n",
    "x_s_test = x_s[int(testset_portion*len(x)):]"
   ]
  },
  {
   "cell_type": "markdown",
   "metadata": {},
   "source": [
    "## Run Learning Model"
   ]
  },
  {
   "cell_type": "code",
   "execution_count": 64,
   "metadata": {
    "collapsed": false
   },
   "outputs": [
    {
     "data": {
      "text/plain": [
       "LinearRegression(copy_X=True, fit_intercept=True, n_jobs=1, normalize=False)"
      ]
     },
     "execution_count": 64,
     "metadata": {},
     "output_type": "execute_result"
    }
   ],
   "source": [
    "# Create linear regression object\n",
    "#from sklearn.linear_model.LinearRegression()\n",
    "linreg = LinearRegression()\n",
    "\n",
    "# Train the model using the training sets\n",
    "linreg.fit(x_s_test,y_test)\n"
   ]
  },
  {
   "cell_type": "code",
   "execution_count": 65,
   "metadata": {
    "collapsed": false,
    "scrolled": false
   },
   "outputs": [
    {
     "name": "stdout",
     "output_type": "stream",
     "text": [
      "[ 372.28234662  198.27269923  263.56689181  129.79593548  181.63982171\n",
      "  365.83582839  260.61357407  376.87064362  381.62799727  141.42176299\n",
      "   57.544536    171.51116466  220.47064398  322.42730047  254.31557346\n",
      "  159.54444535  328.73298507  424.38650704  460.53067942  214.14655323]\n",
      "[  77  313  145  299  229  284  240   16  490   96   36   48  399  189  243\n",
      " 1826  153  131  372   63]\n"
     ]
    }
   ],
   "source": [
    "# Let's see predictions for the first 10 instances\n",
    "print linreg.predict(x_s[:20])\n",
    "print np.array(y[:20])"
   ]
  },
  {
   "cell_type": "markdown",
   "metadata": {},
   "source": [
    "### First pass: verifying "
   ]
  },
  {
   "cell_type": "code",
   "execution_count": 70,
   "metadata": {
    "collapsed": false
   },
   "outputs": [
    {
     "name": "stdout",
     "output_type": "stream",
     "text": [
      "59    1.878179e+07\n",
      "60    1.986448e+07\n",
      "61    2.016215e+07\n",
      "62    2.075111e+07\n",
      "63    2.075860e+07\n",
      "64    1.481683e+07\n",
      "65    1.275136e+07\n",
      "66    2.006897e+07\n",
      "67    1.627124e+07\n",
      "68    2.036085e+07\n",
      "Name: like, dtype: float64\n"
     ]
    }
   ],
   "source": [
    "# Compute RMSE on training data\n",
    "# p = np.array([linreg.predict(xi) for xi in x])\n",
    "p = linreg.predict(x_test)\n",
    "# Now we can constuct a vector of errors\n",
    "err = abs(p-y_test)\n",
    "\n",
    "# Let's see the error on the first 10 predictions\n",
    "print err[:10]"
   ]
  },
  {
   "cell_type": "code",
   "execution_count": 71,
   "metadata": {
    "collapsed": false
   },
   "outputs": [
    {
     "name": "stdout",
     "output_type": "stream",
     "text": [
      "18570567.5253\n"
     ]
    }
   ],
   "source": [
    "# Dot product of error vector with itself gives us the sum of squared errors\n",
    "total_error = np.dot(err,err)\n",
    "# Compute RMSE\n",
    "rmse_train = np.sqrt(total_error/len(p))\n",
    "print rmse_train"
   ]
  },
  {
   "cell_type": "code",
   "execution_count": 72,
   "metadata": {
    "collapsed": false
   },
   "outputs": [
    {
     "name": "stdout",
     "output_type": "stream",
     "text": [
      "Regression Coefficients: \n",
      "[ 149.61169779   40.23603642  -67.02112662  103.36881432   50.44263294\n",
      " -184.16455795 -225.3525605    47.19648108  -14.94868775  -33.83440299\n",
      "   67.85612339  264.5326568 ]\n"
     ]
    }
   ],
   "source": [
    "# We can view the regression coefficients\n",
    "print 'Regression Coefficients: \\n', linreg.coef_\n"
   ]
  },
  {
   "cell_type": "code",
   "execution_count": 74,
   "metadata": {
    "collapsed": false
   },
   "outputs": [
    {
     "data": {
      "image/png": "[encoded data removed]",
      "text/plain": [
       "<matplotlib.figure.Figure at 0x11ef96450>"
      ]
     },
     "metadata": {},
     "output_type": "display_data"
    }
   ],
   "source": [
    "# Plot outputs\n",
    "%matplotlib inline\n",
    "pl.plot(p, y_test,'ro')\n",
    "pl.plot([0,50],[0,50], 'g-')\n",
    "pl.xlabel('predicted')\n",
    "pl.ylabel('real')\n",
    "pl.show()"
   ]
  },
  {
   "cell_type": "markdown",
   "metadata": {},
   "source": [
    "## K-fold Cross Validation"
   ]
  },
  {
   "cell_type": "code",
   "execution_count": 76,
   "metadata": {
    "collapsed": false
   },
   "outputs": [
    {
     "data": {
      "text/plain": [
       "417.56753062996665"
      ]
     },
     "execution_count": 76,
     "metadata": {},
     "output_type": "execute_result"
    }
   ],
   "source": [
    "# Now let's compute RMSE using 10-fold x-validation\n",
    "kf = KFold(len(x), n_folds=10)\n",
    "xval_err = 0\n",
    "for train,test in kf:\n",
    "    linreg.fit(x[train],y[train])\n",
    "    # p = np.array([linreg.predict(xi) for xi in x[test]])\n",
    "    p = linreg.predict(x[test])\n",
    "    e = p-y[test]\n",
    "    xval_err += np.dot(e,e)\n",
    "    \n",
    "rmse_10cv = np.sqrt(xval_err/len(x))\n",
    "rmse_10cv"
   ]
  },
  {
   "cell_type": "markdown",
   "metadata": {},
   "source": [
    "## Model Performance Metrics"
   ]
  },
  {
   "cell_type": "code",
   "execution_count": 77,
   "metadata": {
    "collapsed": false
   },
   "outputs": [
    {
     "name": "stdout",
     "output_type": "stream",
     "text": [
      "Method: Simple Linear Regression\n",
      "RMSE on training: 18570567.5253\n",
      "RMSE on 10-fold CV: 417.5675\n"
     ]
    }
   ],
   "source": [
    "method_name = 'Simple Linear Regression'\n",
    "print('Method: %s' %method_name)\n",
    "print('RMSE on training: %.4f' %rmse_train)\n",
    "print('RMSE on 10-fold CV: %.4f' %rmse_10cv)"
   ]
  },
  {
   "cell_type": "code",
   "execution_count": 78,
   "metadata": {
    "collapsed": false
   },
   "outputs": [
    {
     "name": "stdout",
     "output_type": "stream",
     "text": [
      "Regression Coefficients: \n",
      "[  1.59872934e-02   5.14396991e+01  -4.71765238e+01   1.04272665e+02\n",
      "   1.22935645e+02  -1.53384988e+02  -1.10253535e+02   2.73401438e+00\n",
      "  -1.06575901e+02  -3.41775308e-02   6.18731453e+00   1.77535161e+01]\n"
     ]
    }
   ],
   "source": [
    "# We can view the regression coefficients\n",
    "print 'Regression Coefficients: \\n', linreg.coef_"
   ]
  },
  {
   "cell_type": "code",
   "execution_count": 256,
   "metadata": {
    "collapsed": false
   },
   "outputs": [
    {
     "name": "stdout",
     "output_type": "stream",
     "text": [
      "total_followers 0.0154870561336\n",
      "type_post 57.3689917202\n",
      "type*cat -51.1953972681\n",
      "category 107.19492705\n",
      "paid 126.64801637\n",
      "month -210.413618766\n",
      "weekday -164.111373768\n",
      "hour 38.1628996269\n",
      "weekend -102.682340646\n",
      "hour^2 -3.21381423372\n",
      "hour^3 0.0758134090068\n",
      "month^2 17.3332192062\n",
      "month^3 -0.570182180891\n",
      "weekday^2 32.2516647592\n",
      "weekday^3 -1.14703858646\n"
     ]
    }
   ],
   "source": [
    "for i in range(len(linreg.coef_)):\n",
    "    print list(data)[i], linreg.coef_[i]"
   ]
  },
  {
   "cell_type": "code",
   "execution_count": 80,
   "metadata": {
    "collapsed": true
   },
   "outputs": [],
   "source": [
    "## PUT INTO ONE"
   ]
  },
  {
   "cell_type": "code",
   "execution_count": 79,
   "metadata": {
    "collapsed": false
   },
   "outputs": [
    {
     "name": "stdout",
     "output_type": "stream",
     "text": [
      "Method: linear regression\n",
      "RMSE on training: 402.5523\n",
      "RMSE on 10-fold CV: 417.5675\n",
      "\n",
      "\n"
     ]
    }
   ],
   "source": [
    "from sklearn.linear_model import LinearRegression, Lasso, Ridge, ElasticNet, SGDRegressor\n",
    "a=0.3\n",
    "for name,met in [\n",
    "        ('linear regression', LinearRegression()) #,\n",
    "  #      ('lasso', Lasso(fit_intercept=True, alpha=a)),\n",
    "  #      ('ridge', Ridge(fit_intercept=True, alpha=a)),\n",
    "  #      ('elastic-net', ElasticNet(fit_intercept=True, alpha=a))\n",
    "        ]:\n",
    "    met.fit(x,y)\n",
    "    # p = np.array([met.predict(xi) for xi in x])\n",
    "    p = met.predict(x)\n",
    "    e = p-y\n",
    "    total_error = np.dot(e,e)\n",
    "    rmse_train = np.sqrt(total_error/len(p))\n",
    "\n",
    "    kf = KFold(len(x), n_folds=10)\n",
    "    err = 0\n",
    "    for train,test in kf:\n",
    "        met.fit(x[train],y[train])\n",
    "        p = met.predict(x[test])\n",
    "        e = p-y[test]\n",
    "        err += np.dot(e,e)\n",
    "\n",
    "    rmse_10cv = np.sqrt(err/len(x))\n",
    "    print('Method: %s' %name)\n",
    "    print('RMSE on training: %.4f' %rmse_train)\n",
    "    print('RMSE on 10-fold CV: %.4f' %rmse_10cv)\n",
    "    print \"\\n\""
   ]
  },
  {
   "cell_type": "markdown",
   "metadata": {
    "collapsed": true
   },
   "source": [
    "We'll measure its performance on the following metrics:\n",
    "* Mean squared error (MSE)\n",
    "* Mean absolute error (MAS)\n",
    "* Median absolute error\n",
    "* The coefficient of determination (or R²)"
   ]
  },
  {
   "cell_type": "code",
   "execution_count": 85,
   "metadata": {
    "collapsed": false
   },
   "outputs": [
    {
     "name": "stdout",
     "output_type": "stream",
     "text": [
      "MSE on training: 402.5523\n",
      "RMSE on 10-fold CV: 417.5675\n",
      "MSE on TEST: 177999.7132\n",
      "Mean absolute error: 192.6120\n",
      "R^2 (The coefficient of determination): 0.0571\n",
      "\n",
      "\n"
     ]
    }
   ],
   "source": [
    "#imports \n",
    "from sklearn.metrics import mean_squared_error, mean_absolute_error, median_absolute_error, r2_score\n",
    "\n",
    "#Predict again: pose only on test set\n",
    "y_pred = linreg.predict(x_test)\n",
    "y_true = y_test\n",
    "\n",
    "# Mean squared error (MSE)\n",
    "mse = mean_squared_error(y_true, y_pred)\n",
    "mse\n",
    "\n",
    "# Mean absolute error (MAS)\n",
    "mean_abs_e = mean_absolute_error(y_true, y_pred)\n",
    "\n",
    "# Median absolute error\n",
    "med_abs_e = median_absolute_error(y_true, y_pred)\n",
    "\n",
    "# The coefficient of determination (or R²)\n",
    "r2 = r2_score(y_true, y_pred)  \n",
    "\n",
    "print('MSE on training: %.4f' %rmse_train)\n",
    "print('RMSE on 10-fold CV: %.4f' %rmse_10cv)\n",
    "print('MSE on TEST: %.4f' %mse)\n",
    "print('Mean absolute error: %.4f' %mean_abs_e)\n",
    "print('R^2 (The coefficient of determination): %.4f' %r2)\n",
    "\n",
    "print \"\\n\""
   ]
  },
  {
   "cell_type": "code",
   "execution_count": null,
   "metadata": {
    "collapsed": true
   },
   "outputs": [],
   "source": [
    "##accuracy of clf\n",
    "pr, tpr, thresholds = sklearn.metrics.roc_curve(y_test, y_pred) \n",
    "plt.plot(fpr, tpr) \n",
    "plt.show() \n",
    "print 'plotting done' \n",
    "# print(result) \n",
    "import os os.system('say \"your program has finished\"')"
   ]
  }
 ],
 "metadata": {
  "anaconda-cloud": {},
  "kernelspec": {
   "display_name": "Python [Root]",
   "language": "python",
   "name": "Python [Root]"
  },
  "language_info": {
   "codemirror_mode": {
    "name": "ipython",
    "version": 2
   },
   "file_extension": ".py",
   "mimetype": "text/x-python",
   "name": "python",
   "nbconvert_exporter": "python",
   "pygments_lexer": "ipython2",
   "version": "2.7.12"
  }
 },
 "nbformat": 4,
 "nbformat_minor": 0
}
